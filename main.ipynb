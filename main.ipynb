{
 "cells": [
  {
   "cell_type": "code",
   "execution_count": 8,
   "metadata": {},
   "outputs": [
    {
     "name": "stdout",
     "output_type": "stream",
     "text": [
      " * Serving Flask app \"__main__\" (lazy loading)\n",
      " * Environment: production\n",
      "\u001b[31m   WARNING: This is a development server. Do not use it in a production deployment.\u001b[0m\n",
      "\u001b[2m   Use a production WSGI server instead.\u001b[0m\n",
      " * Debug mode: off\n"
     ]
    },
    {
     "name": "stderr",
     "output_type": "stream",
     "text": [
      " * Running on http://127.0.0.1:5000/ (Press CTRL+C to quit)\n",
      "127.0.0.1 - - [03/Jun/2023 22:53:10] \"GET / HTTP/1.1\" 200 -\n",
      "127.0.0.1 - - [03/Jun/2023 22:53:18] \"POST /apply HTTP/1.1\" 200 -\n",
      "127.0.0.1 - - [03/Jun/2023 22:53:19] \"POST /apply HTTP/1.1\" 200 -\n",
      "127.0.0.1 - - [03/Jun/2023 22:53:19] \"POST /apply HTTP/1.1\" 200 -\n",
      "127.0.0.1 - - [03/Jun/2023 22:53:19] \"POST /apply HTTP/1.1\" 200 -\n",
      "127.0.0.1 - - [03/Jun/2023 22:53:19] \"POST /apply HTTP/1.1\" 200 -\n",
      "127.0.0.1 - - [03/Jun/2023 22:53:20] \"POST /apply HTTP/1.1\" 200 -\n",
      "127.0.0.1 - - [03/Jun/2023 22:53:21] \"POST /apply HTTP/1.1\" 200 -\n",
      "127.0.0.1 - - [03/Jun/2023 22:53:26] \"POST /apply HTTP/1.1\" 200 -\n",
      "127.0.0.1 - - [03/Jun/2023 22:58:50] \"GET / HTTP/1.1\" 200 -\n",
      "127.0.0.1 - - [03/Jun/2023 22:59:01] \"POST /apply HTTP/1.1\" 200 -\n",
      "127.0.0.1 - - [04/Jun/2023 21:10:37] \"POST /apply HTTP/1.1\" 200 -\n",
      "127.0.0.1 - - [04/Jun/2023 21:10:39] \"POST /apply HTTP/1.1\" 200 -\n",
      "127.0.0.1 - - [04/Jun/2023 21:10:42] \"POST /apply HTTP/1.1\" 200 -\n",
      "127.0.0.1 - - [04/Jun/2023 21:10:45] \"POST /apply HTTP/1.1\" 200 -\n"
     ]
    }
   ],
   "source": [
    "from flask import Flask, render_template, request, jsonify\n",
    "import pandas as pd\n",
    "\n",
    "app = Flask(__name__)\n",
    "\n",
    "# Read the CSV file directly from a URL\n",
    "url = 'https://raw.githubusercontent.com/mwaskom/seaborn-data/master/mpg.csv'\n",
    "df = pd.read_csv(url)\n",
    "\n",
    "@app.route('/', methods=['GET'])\n",
    "def index():\n",
    "    # Get column names for the dropdown list\n",
    "    columns = df.columns.tolist()\n",
    "    # List of available aggregation operations\n",
    "    operations = ['sum', 'mean', 'max', 'min', 'count']\n",
    "    return render_template('index.html', columns=columns, operations=operations)\n",
    "\n",
    "@app.route('/apply', methods=['POST'])\n",
    "def apply():\n",
    "    # Get the selected group keys\n",
    "    groupby_columns = request.form.getlist('groupby[]')\n",
    "\n",
    "    # Validate that at least one group key is selected\n",
    "    if not groupby_columns:\n",
    "        return jsonify(error='Please select at least one group key.')\n",
    "\n",
    "    # Get the selected columns for aggregation\n",
    "    selected_columns = request.form.getlist('columns[]')\n",
    "\n",
    "    # Validate that groupby columns and selected columns are different\n",
    "    if set(groupby_columns).intersection(set(selected_columns)):\n",
    "        return jsonify(error='Please select different columns for group keys and operations.')\n",
    "\n",
    "    # Group by the selected columns\n",
    "    df_grouped = df.groupby(groupby_columns)\n",
    "\n",
    "    # Get the selected operations\n",
    "    operation_names = request.form.getlist('operation[]')\n",
    "\n",
    "    # Perform the selected aggregation operations\n",
    "    df_grouped = df_grouped.agg({col: operation_names for col in selected_columns})\n",
    "\n",
    "    # Convert DataFrame to an HTML table with commas and two decimal points\n",
    "    table = df_grouped.to_html(float_format=lambda x: '{:,.2f}'.format(x), table_id=\"resultTable\")\n",
    "\n",
    "\n",
    "    return jsonify(table=table)\n",
    "\n",
    "if __name__ == '__main__':\n",
    "    app.run(debug=False)\n"
   ]
  },
  {
   "attachments": {},
   "cell_type": "markdown",
   "metadata": {},
   "source": []
  },
  {
   "attachments": {},
   "cell_type": "markdown",
   "metadata": {},
   "source": []
  },
  {
   "cell_type": "code",
   "execution_count": null,
   "metadata": {},
   "outputs": [],
   "source": []
  },
  {
   "cell_type": "code",
   "execution_count": null,
   "metadata": {},
   "outputs": [],
   "source": []
  },
  {
   "cell_type": "code",
   "execution_count": null,
   "metadata": {},
   "outputs": [],
   "source": []
  }
 ],
 "metadata": {
  "kernelspec": {
   "display_name": "base",
   "language": "python",
   "name": "python3"
  },
  "language_info": {
   "codemirror_mode": {
    "name": "ipython",
    "version": 3
   },
   "file_extension": ".py",
   "mimetype": "text/x-python",
   "name": "python",
   "nbconvert_exporter": "python",
   "pygments_lexer": "ipython3",
   "version": "3.9.13"
  },
  "orig_nbformat": 4
 },
 "nbformat": 4,
 "nbformat_minor": 2
}
