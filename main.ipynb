{
 "cells": [
  {
   "cell_type": "code",
   "execution_count": 95,
   "metadata": {},
   "outputs": [
    {
     "name": "stdout",
     "output_type": "stream",
     "text": [
      " * Serving Flask app \"__main__\" (lazy loading)\n",
      " * Environment: production\n",
      "\u001b[31m   WARNING: This is a development server. Do not use it in a production deployment.\u001b[0m\n",
      "\u001b[2m   Use a production WSGI server instead.\u001b[0m\n",
      " * Debug mode: off\n"
     ]
    },
    {
     "name": "stderr",
     "output_type": "stream",
     "text": [
      " * Running on http://127.0.0.1:5000/ (Press CTRL+C to quit)\n",
      "127.0.0.1 - - [02/Jun/2023 17:11:32] \"GET /apply HTTP/1.1\" 405 -\n",
      "127.0.0.1 - - [02/Jun/2023 17:11:34] \"GET / HTTP/1.1\" 200 -\n",
      "127.0.0.1 - - [02/Jun/2023 17:11:38] \"POST /apply HTTP/1.1\" 200 -\n",
      "127.0.0.1 - - [02/Jun/2023 17:11:46] \"POST /apply HTTP/1.1\" 200 -\n"
     ]
    }
   ],
   "source": [
    "from flask import Flask, render_template, request, Markup\n",
    "import pandas as pd\n",
    "\n",
    "app = Flask(__name__)\n",
    "\n",
    "# Read the CSV file directly from a URL\n",
    "url = 'https://raw.githubusercontent.com/mwaskom/seaborn-data/master/mpg.csv'\n",
    "df = pd.read_csv(url)\n",
    "\n",
    "@app.route('/', methods=['GET'])\n",
    "def index():\n",
    "    # Get column names for the dropdown list\n",
    "    columns = df.columns.tolist()\n",
    "    # List of available aggregation operations\n",
    "    operations = ['sum', 'mean', 'max', 'min', 'count']\n",
    "    return render_template('index.html', columns=columns, operations=operations)\n",
    "\n",
    "@app.route('/apply', methods=['POST'])\n",
    "def apply():\n",
    "    # Get the selected group keys\n",
    "    groupby_columns = request.form.getlist('groupby[]')\n",
    "\n",
    "    # Validate that at least one group key is selected\n",
    "    if not groupby_columns:\n",
    "        return render_template('index.html', error='Please select at least one group key.', columns=df.columns.tolist(), operations=['sum', 'mean', 'max', 'min', 'count'])\n",
    "\n",
    "    # Filter the DataFrame based on the selected columns\n",
    "    selected_columns = groupby_columns + request.form.getlist('columns[]')\n",
    "    df_filtered = df[selected_columns]\n",
    "\n",
    "    # Group by the selected columns\n",
    "    df_grouped = df_filtered.groupby(groupby_columns)\n",
    "\n",
    "    # Get the selected operations\n",
    "    operation_names = request.form.getlist('operation[]')\n",
    "\n",
    "    # Perform the selected aggregation operations\n",
    "    df_grouped = df_grouped.agg(operation_names)\n",
    "\n",
    "    # Convert DataFrame to an HTML table\n",
    "    table = df_grouped.to_html()\n",
    "\n",
    "    return render_template('index.html', table=Markup(table), columns=df.columns.tolist(), operations=['sum', 'mean', 'max', 'min', 'count'])\n",
    "\n",
    "if __name__ == '__main__':\n",
    "    app.run(debug=False)\n"
   ]
  },
  {
   "cell_type": "markdown",
   "metadata": {},
   "source": []
  },
  {
   "cell_type": "markdown",
   "metadata": {},
   "source": []
  },
  {
   "cell_type": "code",
   "execution_count": null,
   "metadata": {},
   "outputs": [],
   "source": []
  },
  {
   "cell_type": "code",
   "execution_count": null,
   "metadata": {},
   "outputs": [],
   "source": []
  },
  {
   "cell_type": "code",
   "execution_count": null,
   "metadata": {},
   "outputs": [],
   "source": []
  }
 ],
 "metadata": {
  "language_info": {
   "name": "python"
  },
  "orig_nbformat": 4
 },
 "nbformat": 4,
 "nbformat_minor": 2
}
