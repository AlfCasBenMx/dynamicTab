{
 "cells": [
  {
   "cell_type": "code",
   "execution_count": 32,
   "metadata": {},
   "outputs": [
    {
     "name": "stdout",
     "output_type": "stream",
     "text": [
      " * Serving Flask app \"__main__\" (lazy loading)\n",
      " * Environment: production\n",
      "\u001b[31m   WARNING: This is a development server. Do not use it in a production deployment.\u001b[0m\n",
      "\u001b[2m   Use a production WSGI server instead.\u001b[0m\n",
      " * Debug mode: off\n"
     ]
    },
    {
     "name": "stderr",
     "output_type": "stream",
     "text": [
      " * Running on http://127.0.0.1:5000/ (Press CTRL+C to quit)\n",
      "127.0.0.1 - - [02/Jun/2023 14:33:07] \"GET / HTTP/1.1\" 200 -\n",
      "127.0.0.1 - - [02/Jun/2023 14:33:11] \"POST /apply HTTP/1.1\" 200 -\n",
      "127.0.0.1 - - [02/Jun/2023 14:33:17] \"POST /apply HTTP/1.1\" 200 -\n",
      "C:\\Users\\RX971WG\\AppData\\Local\\Temp\\ipykernel_49624\\1412614054.py:29: FutureWarning: ['origin', 'name'] did not aggregate successfully. If any error is raised this will raise in a future version of pandas. Drop these columns/ops to avoid this warning.\n",
      "  df_grouped = df_grouped.agg(operation_names)\n",
      "127.0.0.1 - - [02/Jun/2023 14:33:30] \"POST /apply HTTP/1.1\" 200 -\n"
     ]
    }
   ],
   "source": [
    "from flask import Flask, render_template, request, Markup\n",
    "import pandas as pd\n",
    "import numpy as np\n",
    "\n",
    "app = Flask(__name__)\n",
    "\n",
    "# Read the CSV file directly from a URL\n",
    "url = 'https://raw.githubusercontent.com/mwaskom/seaborn-data/master/mpg.csv'\n",
    "df = pd.read_csv(url)\n",
    "\n",
    "@app.route('/', methods=['GET'])\n",
    "def index():\n",
    "    # Get column names for the dropdown list\n",
    "    columns = df.columns.tolist()\n",
    "    # List of available aggregation operations\n",
    "    operations = ['sum', 'mean', 'max', 'min', 'count']\n",
    "    return render_template('index.html', columns=columns, operations=operations)\n",
    "\n",
    "@app.route('/apply', methods=['POST'])\n",
    "def apply():\n",
    "    # Group by the selected columns\n",
    "    groupby_columns = request.form.getlist('groupby')\n",
    "    df_grouped = df.groupby(groupby_columns)\n",
    "\n",
    "    # Get the selected operations\n",
    "    operation_names = request.form.getlist('operation')\n",
    "    \n",
    "    # Perform the selected aggregation operations\n",
    "    df_grouped = df_grouped.agg(operation_names)\n",
    "\n",
    "    # Convert DataFrame to an HTML table\n",
    "    table = df_grouped.T.to_html()\n",
    "\n",
    "    return render_template('index.html', table=Markup(table), columns=df.columns.tolist(), operations=['sum', 'mean', 'max', 'min', 'count'])\n",
    "\n",
    "if __name__ == '__main__':\n",
    "    app.run(debug=False)\n"
   ]
  },
  {
   "cell_type": "markdown",
   "metadata": {},
   "source": []
  },
  {
   "cell_type": "code",
   "execution_count": null,
   "metadata": {},
   "outputs": [],
   "source": []
  },
  {
   "cell_type": "code",
   "execution_count": null,
   "metadata": {},
   "outputs": [],
   "source": []
  },
  {
   "cell_type": "code",
   "execution_count": null,
   "metadata": {},
   "outputs": [],
   "source": []
  }
 ],
 "metadata": {
  "language_info": {
   "name": "python"
  },
  "orig_nbformat": 4
 },
 "nbformat": 4,
 "nbformat_minor": 2
}
